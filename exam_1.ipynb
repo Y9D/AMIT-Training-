{
 "cells": [
  {
   "cell_type": "markdown",
   "metadata": {},
   "source": [
    "# Exam1\n",
    "\n"
   ]
  },
  {
   "cell_type": "markdown",
   "metadata": {},
   "source": [
    "#### LESSER OF TWO EVENS: Write a function that returns the lesser of two given numbers *if* both numbers are even, but returns the greater if one or both numbers are odd\n",
    "    lesser_of_two_evens(2,4) --> 2\n",
    "    lesser_of_two_evens(2,5) --> 5"
   ]
  },
  {
   "cell_type": "code",
   "execution_count": 2,
   "metadata": {
    "collapsed": true
   },
   "outputs": [],
   "source": [
    "# Bulding the function\n",
    "def lesser_of_two_evens(a,b):\n",
    "\n",
    "    # made if else if statment and stated the conditions\n",
    "    \n",
    "    if a % 2 == 0 and b % 2 == 0:\n",
    "\n",
    "        return min(a , b)\n",
    "\n",
    "    elif a or b % 2 == 0 and a or b % 2 !=0:\n",
    "\n",
    "        return max(a , b)"
   ]
  },
  {
   "cell_type": "code",
   "execution_count": 3,
   "metadata": {
    "collapsed": true
   },
   "outputs": [
    {
     "data": {
      "text/plain": [
       "2"
      ]
     },
     "execution_count": 3,
     "metadata": {},
     "output_type": "execute_result"
    }
   ],
   "source": [
    "# calling the function to Check\n",
    "\n",
    "lesser_of_two_evens(2,4)\n"
   ]
  },
  {
   "cell_type": "code",
   "execution_count": 4,
   "metadata": {
    "collapsed": true
   },
   "outputs": [
    {
     "data": {
      "text/plain": [
       "5"
      ]
     },
     "execution_count": 4,
     "metadata": {},
     "output_type": "execute_result"
    }
   ],
   "source": [
    "# calling the function to Check\n",
    "lesser_of_two_evens(2,5)"
   ]
  },
  {
   "cell_type": "markdown",
   "metadata": {},
   "source": [
    "#### ANIMAL CRACKERS: Write a function takes a two-word string and returns True if both words begin with same letter\n",
    "    animal_crackers('Levelheaded Llama') --> True\n",
    "    animal_crackers('Crazy Kangaroo') --> False"
   ]
  },
  {
   "cell_type": "code",
   "execution_count": 7,
   "metadata": {
    "collapsed": true
   },
   "outputs": [],
   "source": [
    "# Bulding the function\n",
    "\n",
    "def animal_crackers(text):\n",
    "\n",
    "    # creating a list of string and used the method split() to split the stings into a list\n",
    "\n",
    "    text_list = text.split()\n",
    "\n",
    "    # made if else statment and stated the conditions\n",
    "\n",
    "\n",
    "    if text_list[0][0] == text_list[1][0]:\n",
    "\n",
    "        print('true')\n",
    "    \n",
    "    else: \n",
    "\n",
    "        print(\"false\")\n",
    "\n",
    "    \n",
    "\n",
    "    \n",
    "\n",
    "    \n",
    "    "
   ]
  },
  {
   "cell_type": "code",
   "execution_count": 8,
   "metadata": {
    "collapsed": true
   },
   "outputs": [
    {
     "name": "stdout",
     "output_type": "stream",
     "text": [
      "true\n"
     ]
    }
   ],
   "source": [
    "# calling the funtion to Check\n",
    "animal_crackers('Levelheaded Llama')"
   ]
  },
  {
   "cell_type": "code",
   "execution_count": 9,
   "metadata": {
    "collapsed": true
   },
   "outputs": [
    {
     "name": "stdout",
     "output_type": "stream",
     "text": [
      "false\n"
     ]
    }
   ],
   "source": [
    "# calling the function to Check\n",
    "animal_crackers('Crazy Kangaroo')"
   ]
  },
  {
   "cell_type": "markdown",
   "metadata": {},
   "source": [
    "#### MAKES TWENTY: Given two integers, return True if the sum of the integers is 20 *or* if one of the integers is 20. If not, return False\n",
    "\n",
    "    makes_twenty(20,10) --> True\n",
    "    makes_twenty(12,8) --> True\n",
    "    makes_twenty(2,3) --> False"
   ]
  },
  {
   "cell_type": "code",
   "execution_count": 10,
   "metadata": {
    "collapsed": true
   },
   "outputs": [],
   "source": [
    "# Building the function \n",
    "\n",
    "def makes_twenty(n1,n2):\n",
    "\n",
    "    # made if elseif else statment and stated the conditions\n",
    "    \n",
    "    if n1 == 20 or n2 == 20:\n",
    "\n",
    "        print('True')\n",
    "    \n",
    "    elif n1 + n2 == 20:\n",
    "\n",
    "        print('True')\n",
    "\n",
    "    else:\n",
    "\n",
    "        print('False')"
   ]
  },
  {
   "cell_type": "code",
   "execution_count": 11,
   "metadata": {
    "collapsed": true
   },
   "outputs": [
    {
     "name": "stdout",
     "output_type": "stream",
     "text": [
      "True\n"
     ]
    }
   ],
   "source": [
    "# calling the function to Check\n",
    "makes_twenty(20,10)"
   ]
  },
  {
   "cell_type": "code",
   "execution_count": 12,
   "metadata": {
    "collapsed": true
   },
   "outputs": [
    {
     "name": "stdout",
     "output_type": "stream",
     "text": [
      "False\n"
     ]
    }
   ],
   "source": [
    "# calling the function to Check\n",
    "makes_twenty(2,3)"
   ]
  },
  {
   "cell_type": "markdown",
   "metadata": {},
   "source": [
    "#### OLD MACDONALD: Write a function that capitalizes the first and fourth letters of a name\n",
    "     \n",
    "    old_macdonald('macdonald') --> MacDonald\n",
    "    \n",
    "Note: `'macdonald'.capitalize()` returns `'Macdonald'`"
   ]
  },
  {
   "cell_type": "code",
   "execution_count": 43,
   "metadata": {
    "collapsed": true
   },
   "outputs": [],
   "source": [
    "# Building the function\n",
    "\n",
    "def old_macdonald(name):\n",
    "\n",
    "    # careating a lsit of string\n",
    "\n",
    "    xlist = list(name)\n",
    "    \n",
    "    # using indexing and capitalize method to capitalize the index I want \n",
    "    \n",
    "    xlist[0] = xlist[0].capitalize()\n",
    "    \n",
    "    xlist[3] = xlist[3].capitalize()\n",
    "\n",
    "    return ''.join(xlist)\n"
   ]
  },
  {
   "cell_type": "code",
   "execution_count": 44,
   "metadata": {
    "collapsed": true
   },
   "outputs": [
    {
     "data": {
      "text/plain": [
       "'MacDonald'"
      ]
     },
     "execution_count": 44,
     "metadata": {},
     "output_type": "execute_result"
    }
   ],
   "source": [
    "# calling the function to Check\n",
    "old_macdonald('macdonald')"
   ]
  },
  {
   "cell_type": "markdown",
   "metadata": {},
   "source": [
    "#### ALMOST THERE: Given an integer n, return True if n is within 10 of either 100 or 200\n",
    "\n",
    "    almost_there(90) --> True\n",
    "    almost_there(104) --> True\n",
    "    almost_there(150) --> False\n",
    "    almost_there(209) --> True\n",
    "    \n",
    "NOTE: `abs(num)` returns the absolute value of a number"
   ]
  },
  {
   "cell_type": "code",
   "execution_count": 45,
   "metadata": {
    "collapsed": true
   },
   "outputs": [],
   "source": [
    "# Bulding the function \n",
    "\n",
    "def almost_there(n):\n",
    "\n",
    "    # made if else if else stament and stated the conditions \n",
    "\n",
    "    if n >= 10 and n < 20:\n",
    "\n",
    "        print ('True')\n",
    "\n",
    "    elif n >= 100 and n <= 109:\n",
    "\n",
    "        print ('True')\n",
    "    \n",
    "    elif n >= 200 and n <= 209:\n",
    "\n",
    "        print ('True')\n",
    "\n",
    "    else:\n",
    "\n",
    "        print('False')\n"
   ]
  },
  {
   "cell_type": "code",
   "execution_count": 46,
   "metadata": {
    "collapsed": true
   },
   "outputs": [
    {
     "name": "stdout",
     "output_type": "stream",
     "text": [
      "True\n"
     ]
    }
   ],
   "source": [
    "# calling the function to Check\n",
    "almost_there(104)"
   ]
  },
  {
   "cell_type": "code",
   "execution_count": 47,
   "metadata": {
    "collapsed": true
   },
   "outputs": [
    {
     "name": "stdout",
     "output_type": "stream",
     "text": [
      "False\n"
     ]
    }
   ],
   "source": [
    "# calling the function to Check\n",
    "almost_there(150)"
   ]
  },
  {
   "cell_type": "code",
   "execution_count": 48,
   "metadata": {
    "collapsed": true
   },
   "outputs": [
    {
     "name": "stdout",
     "output_type": "stream",
     "text": [
      "True\n"
     ]
    }
   ],
   "source": [
    "# calling the function to Check\n",
    "almost_there(209)"
   ]
  },
  {
   "cell_type": "markdown",
   "metadata": {},
   "source": [
    "#### FIND 33: \n",
    "\n",
    "Given a list of ints, return True if the array contains a 3 next to a 3 somewhere.\n",
    "\n",
    "    has_33([1, 3, 3]) → True\n",
    "    has_33([1, 3, 1, 3]) → False\n",
    "    has_33([3, 1, 3]) → False"
   ]
  },
  {
   "cell_type": "code",
   "execution_count": 53,
   "metadata": {
    "collapsed": true
   },
   "outputs": [],
   "source": [
    "# Bulding the function \n",
    "\n",
    "# we need to use the method len() --> which meanslength of array and make a loop to pass on every number in the list and find if there\n",
    "# is 3 next to a 3 \n",
    "\n",
    "def has_33(nums):\n",
    "    \n",
    "    for i in list(has_33):\n",
    "\n",
    "\n",
    "        if  len([i: le]) == [3,3]:\n",
    "\n",
    "            print('True')\n",
    "\n",
    "        else:\n",
    "\n",
    "            print('False')\n",
    "\n"
   ]
  },
  {
   "cell_type": "code",
   "execution_count": 54,
   "metadata": {
    "collapsed": true
   },
   "outputs": [
    {
     "ename": "TypeError",
     "evalue": "'function' object is not iterable",
     "output_type": "error",
     "traceback": [
      "\u001b[1;31m---------------------------------------------------------------------------\u001b[0m",
      "\u001b[1;31mTypeError\u001b[0m                                 Traceback (most recent call last)",
      "\u001b[1;32mc:\\Users\\Yara9\\Desktop\\AMIT ML Training\\exam_1.ipynb Cell 24'\u001b[0m in \u001b[0;36m<cell line: 2>\u001b[1;34m()\u001b[0m\n\u001b[0;32m      <a href='vscode-notebook-cell:/c%3A/Users/Yara9/Desktop/AMIT%20ML%20Training/exam_1.ipynb#ch0000023?line=0'>1</a>\u001b[0m \u001b[39m# Check\u001b[39;00m\n\u001b[1;32m----> <a href='vscode-notebook-cell:/c%3A/Users/Yara9/Desktop/AMIT%20ML%20Training/exam_1.ipynb#ch0000023?line=1'>2</a>\u001b[0m has_33([\u001b[39m1\u001b[39;49m, \u001b[39m3\u001b[39;49m, \u001b[39m3\u001b[39;49m])\n",
      "\u001b[1;32mc:\\Users\\Yara9\\Desktop\\AMIT ML Training\\exam_1.ipynb Cell 23'\u001b[0m in \u001b[0;36mhas_33\u001b[1;34m(nums)\u001b[0m\n\u001b[0;32m      <a href='vscode-notebook-cell:/c%3A/Users/Yara9/Desktop/AMIT%20ML%20Training/exam_1.ipynb#ch0000022?line=0'>1</a>\u001b[0m \u001b[39mdef\u001b[39;00m \u001b[39mhas_33\u001b[39m(nums):\n\u001b[1;32m----> <a href='vscode-notebook-cell:/c%3A/Users/Yara9/Desktop/AMIT%20ML%20Training/exam_1.ipynb#ch0000022?line=2'>3</a>\u001b[0m     \u001b[39mfor\u001b[39;00m i \u001b[39min\u001b[39;00m \u001b[39mlist\u001b[39;49m(has_33):\n\u001b[0;32m      <a href='vscode-notebook-cell:/c%3A/Users/Yara9/Desktop/AMIT%20ML%20Training/exam_1.ipynb#ch0000022?line=5'>6</a>\u001b[0m         \u001b[39mif\u001b[39;00m  \u001b[39mlen\u001b[39m(i\u001b[39m+\u001b[39m\u001b[39m1\u001b[39m) \u001b[39m==\u001b[39m [\u001b[39m3\u001b[39m,\u001b[39m3\u001b[39m]:\n\u001b[0;32m      <a href='vscode-notebook-cell:/c%3A/Users/Yara9/Desktop/AMIT%20ML%20Training/exam_1.ipynb#ch0000022?line=7'>8</a>\u001b[0m             \u001b[39mprint\u001b[39m(\u001b[39m'\u001b[39m\u001b[39mTrue\u001b[39m\u001b[39m'\u001b[39m)\n",
      "\u001b[1;31mTypeError\u001b[0m: 'function' object is not iterable"
     ]
    }
   ],
   "source": [
    "# Check\n",
    "has_33([1, 3, 3])"
   ]
  },
  {
   "cell_type": "code",
   "execution_count": null,
   "metadata": {
    "collapsed": true
   },
   "outputs": [],
   "source": [
    "# Check\n",
    "has_33([1, 3, 1, 3])"
   ]
  },
  {
   "cell_type": "code",
   "execution_count": null,
   "metadata": {
    "collapsed": true
   },
   "outputs": [],
   "source": [
    "# Check\n",
    "has_33([3, 1, 3])"
   ]
  },
  {
   "cell_type": "markdown",
   "metadata": {},
   "source": [
    "#### PAPER DOLL: Given a string, return a string where for every character in the original there are three characters\n",
    "    paper_doll('Hello') --> 'HHHeeellllllooo'\n",
    "    paper_doll('Mississippi') --> 'MMMiiissssssiiippppppiii'"
   ]
  },
  {
   "cell_type": "code",
   "execution_count": null,
   "metadata": {
    "collapsed": true
   },
   "outputs": [],
   "source": [
    "def paper_doll(text):\n",
    "    \n",
    "    "
   ]
  },
  {
   "cell_type": "code",
   "execution_count": null,
   "metadata": {
    "collapsed": true
   },
   "outputs": [],
   "source": [
    "# Check\n",
    "paper_doll('Hello')"
   ]
  },
  {
   "cell_type": "code",
   "execution_count": null,
   "metadata": {
    "collapsed": true
   },
   "outputs": [],
   "source": [
    "# Check\n",
    "paper_doll('Mississippi')"
   ]
  },
  {
   "cell_type": "markdown",
   "metadata": {},
   "source": [
    "#### BLACKJACK: Given three integers between 1 and 11, if their sum is less than or equal to 21, return their sum. If their sum exceeds 21 *and* there's an eleven, reduce the total sum by 10. Finally, if the sum (even after adjustment) exceeds 21, return 'BUST'\n",
    "    blackjack(5,6,7) --> 18\n",
    "    blackjack(9,9,9) --> 'BUST'\n",
    "    blackjack(9,9,11) --> 19"
   ]
  },
  {
   "cell_type": "code",
   "execution_count": 61,
   "metadata": {
    "collapsed": true
   },
   "outputs": [],
   "source": [
    "def blackjack(a,b,c):\n",
    "    \n",
    "    if a + b + c == 21:\n",
    "\n",
    "        return sum(a + b + c)\n",
    "\n",
    "    elif a + b + c > 21 and a or b or c == 11:\n",
    "\n",
    "        x = sum ( a + b + c).__sub__(10)\n",
    "\n",
    "        return c == x\n",
    "\n",
    "    else:\n",
    "\n",
    "        return 'Bust'\n",
    "\n"
   ]
  },
  {
   "cell_type": "code",
   "execution_count": 62,
   "metadata": {
    "collapsed": true
   },
   "outputs": [
    {
     "ename": "TypeError",
     "evalue": "'int' object is not iterable",
     "output_type": "error",
     "traceback": [
      "\u001b[1;31m---------------------------------------------------------------------------\u001b[0m",
      "\u001b[1;31mTypeError\u001b[0m                                 Traceback (most recent call last)",
      "\u001b[1;32mc:\\Users\\Yara9\\Desktop\\AMIT ML Training\\exam_1.ipynb Cell 33'\u001b[0m in \u001b[0;36m<cell line: 2>\u001b[1;34m()\u001b[0m\n\u001b[0;32m      <a href='vscode-notebook-cell:/c%3A/Users/Yara9/Desktop/AMIT%20ML%20Training/exam_1.ipynb#ch0000032?line=0'>1</a>\u001b[0m \u001b[39m# Check\u001b[39;00m\n\u001b[1;32m----> <a href='vscode-notebook-cell:/c%3A/Users/Yara9/Desktop/AMIT%20ML%20Training/exam_1.ipynb#ch0000032?line=1'>2</a>\u001b[0m blackjack(\u001b[39m5\u001b[39;49m,\u001b[39m6\u001b[39;49m,\u001b[39m7\u001b[39;49m)\n",
      "\u001b[1;32mc:\\Users\\Yara9\\Desktop\\AMIT ML Training\\exam_1.ipynb Cell 32'\u001b[0m in \u001b[0;36mblackjack\u001b[1;34m(a, b, c)\u001b[0m\n\u001b[0;32m      <a href='vscode-notebook-cell:/c%3A/Users/Yara9/Desktop/AMIT%20ML%20Training/exam_1.ipynb#ch0000031?line=4'>5</a>\u001b[0m     \u001b[39mreturn\u001b[39;00m \u001b[39msum\u001b[39m(a \u001b[39m+\u001b[39m b \u001b[39m+\u001b[39m c)\n\u001b[0;32m      <a href='vscode-notebook-cell:/c%3A/Users/Yara9/Desktop/AMIT%20ML%20Training/exam_1.ipynb#ch0000031?line=6'>7</a>\u001b[0m \u001b[39melif\u001b[39;00m a \u001b[39m+\u001b[39m b \u001b[39m+\u001b[39m c \u001b[39m>\u001b[39m \u001b[39m21\u001b[39m \u001b[39mand\u001b[39;00m a \u001b[39mor\u001b[39;00m b \u001b[39mor\u001b[39;00m c \u001b[39m==\u001b[39m \u001b[39m11\u001b[39m:\n\u001b[1;32m----> <a href='vscode-notebook-cell:/c%3A/Users/Yara9/Desktop/AMIT%20ML%20Training/exam_1.ipynb#ch0000031?line=8'>9</a>\u001b[0m     x \u001b[39m=\u001b[39m \u001b[39msum\u001b[39;49m ( a \u001b[39m+\u001b[39;49m b \u001b[39m+\u001b[39;49m c)\u001b[39m.\u001b[39m\u001b[39m__sub__\u001b[39m(\u001b[39m10\u001b[39m)\n\u001b[0;32m     <a href='vscode-notebook-cell:/c%3A/Users/Yara9/Desktop/AMIT%20ML%20Training/exam_1.ipynb#ch0000031?line=10'>11</a>\u001b[0m     \u001b[39mreturn\u001b[39;00m c \u001b[39m==\u001b[39m x\n\u001b[0;32m     <a href='vscode-notebook-cell:/c%3A/Users/Yara9/Desktop/AMIT%20ML%20Training/exam_1.ipynb#ch0000031?line=12'>13</a>\u001b[0m \u001b[39melse\u001b[39;00m:\n",
      "\u001b[1;31mTypeError\u001b[0m: 'int' object is not iterable"
     ]
    }
   ],
   "source": [
    "# Check\n",
    "blackjack(5,6,7)"
   ]
  },
  {
   "cell_type": "code",
   "execution_count": null,
   "metadata": {
    "collapsed": true
   },
   "outputs": [],
   "source": [
    "# Check\n",
    "blackjack(9,9,9)"
   ]
  },
  {
   "cell_type": "code",
   "execution_count": null,
   "metadata": {
    "collapsed": true
   },
   "outputs": [],
   "source": [
    "# Check\n",
    "blackjack(9,9,11)"
   ]
  },
  {
   "cell_type": "markdown",
   "metadata": {},
   "source": [
    "#### SUMMER OF '69: Return the sum of the numbers in the array, except ignore sections of numbers starting with a 6 and extending to the next 9 (every 6 will be followed by at least one 9). Return 0 for no numbers.\n",
    " \n",
    "    summer_69([1, 3, 5]) --> 9\n",
    "    summer_69([4, 5, 6, 7, 8, 9]) --> 9\n",
    "    summer_69([2, 1, 6, 9, 11]) --> 14"
   ]
  },
  {
   "cell_type": "code",
   "execution_count": 65,
   "metadata": {
    "collapsed": true
   },
   "outputs": [],
   "source": [
    "# \n",
    "\n",
    "def summer_69(arr):\n",
    "    \n",
    "    \n",
    "    for x in arr:\n",
    "\n",
    "        x = list(x)\n",
    "\n",
    "        if x != 6:\n",
    "\n",
    "            sum = 0\n",
    "\n",
    "            sum.__add__(arr)\n",
    "            \n",
    "            return sum\n",
    "\n",
    "        elif x == 6:\n",
    "            \n",
    "            pass\n",
    "        \n",
    "    \n",
    "\n",
    "\n",
    "\n",
    "    "
   ]
  },
  {
   "cell_type": "code",
   "execution_count": 66,
   "metadata": {
    "collapsed": true
   },
   "outputs": [
    {
     "ename": "TypeError",
     "evalue": "'int' object is not iterable",
     "output_type": "error",
     "traceback": [
      "\u001b[1;31m---------------------------------------------------------------------------\u001b[0m",
      "\u001b[1;31mTypeError\u001b[0m                                 Traceback (most recent call last)",
      "\u001b[1;32mc:\\Users\\Yara9\\Desktop\\AMIT ML Training\\exam_1.ipynb Cell 38'\u001b[0m in \u001b[0;36m<cell line: 2>\u001b[1;34m()\u001b[0m\n\u001b[0;32m      <a href='vscode-notebook-cell:/c%3A/Users/Yara9/Desktop/AMIT%20ML%20Training/exam_1.ipynb#ch0000037?line=0'>1</a>\u001b[0m \u001b[39m# Check\u001b[39;00m\n\u001b[1;32m----> <a href='vscode-notebook-cell:/c%3A/Users/Yara9/Desktop/AMIT%20ML%20Training/exam_1.ipynb#ch0000037?line=1'>2</a>\u001b[0m summer_69([\u001b[39m1\u001b[39;49m, \u001b[39m3\u001b[39;49m, \u001b[39m5\u001b[39;49m])\n",
      "\u001b[1;32mc:\\Users\\Yara9\\Desktop\\AMIT ML Training\\exam_1.ipynb Cell 37'\u001b[0m in \u001b[0;36msummer_69\u001b[1;34m(arr)\u001b[0m\n\u001b[0;32m      <a href='vscode-notebook-cell:/c%3A/Users/Yara9/Desktop/AMIT%20ML%20Training/exam_1.ipynb#ch0000036?line=0'>1</a>\u001b[0m \u001b[39mdef\u001b[39;00m \u001b[39msummer_69\u001b[39m(arr):\n\u001b[0;32m      <a href='vscode-notebook-cell:/c%3A/Users/Yara9/Desktop/AMIT%20ML%20Training/exam_1.ipynb#ch0000036?line=3'>4</a>\u001b[0m     \u001b[39mfor\u001b[39;00m x \u001b[39min\u001b[39;00m arr:\n\u001b[1;32m----> <a href='vscode-notebook-cell:/c%3A/Users/Yara9/Desktop/AMIT%20ML%20Training/exam_1.ipynb#ch0000036?line=5'>6</a>\u001b[0m         x \u001b[39m=\u001b[39m \u001b[39mlist\u001b[39;49m(x)\n\u001b[0;32m      <a href='vscode-notebook-cell:/c%3A/Users/Yara9/Desktop/AMIT%20ML%20Training/exam_1.ipynb#ch0000036?line=7'>8</a>\u001b[0m         \u001b[39mif\u001b[39;00m x \u001b[39m!=\u001b[39m \u001b[39m6\u001b[39m:\n\u001b[0;32m     <a href='vscode-notebook-cell:/c%3A/Users/Yara9/Desktop/AMIT%20ML%20Training/exam_1.ipynb#ch0000036?line=9'>10</a>\u001b[0m             \u001b[39msum\u001b[39m \u001b[39m=\u001b[39m \u001b[39m0\u001b[39m\n",
      "\u001b[1;31mTypeError\u001b[0m: 'int' object is not iterable"
     ]
    }
   ],
   "source": [
    "# Check\n",
    "summer_69([1, 3, 5])"
   ]
  },
  {
   "cell_type": "code",
   "execution_count": null,
   "metadata": {
    "collapsed": true
   },
   "outputs": [],
   "source": [
    "# Check\n",
    "summer_69([4, 5, 6, 7, 8, 9])"
   ]
  },
  {
   "cell_type": "code",
   "execution_count": null,
   "metadata": {
    "collapsed": true
   },
   "outputs": [],
   "source": [
    "# Check\n",
    "summer_69([2, 1, 6, 9, 11])"
   ]
  },
  {
   "cell_type": "markdown",
   "metadata": {},
   "source": [
    "#### SPY GAME: Write a function that takes in a list of integers and returns True if it contains 007 in order\n",
    "\n",
    "     spy_game([1,2,4,0,0,7,5]) --> True\n",
    "     spy_game([1,0,2,4,0,5,7]) --> True\n",
    "     spy_game([1,7,2,0,4,5,0]) --> False\n"
   ]
  },
  {
   "cell_type": "code",
   "execution_count": null,
   "metadata": {
    "collapsed": true
   },
   "outputs": [],
   "source": [
    "def spy_game(nums):\n",
    "\n",
    "    \n",
    "    pass"
   ]
  },
  {
   "cell_type": "code",
   "execution_count": null,
   "metadata": {
    "collapsed": true
   },
   "outputs": [],
   "source": [
    "# Check\n",
    "spy_game([1,2,4,0,0,7,5])"
   ]
  },
  {
   "cell_type": "code",
   "execution_count": null,
   "metadata": {
    "collapsed": true
   },
   "outputs": [],
   "source": [
    "# Check\n",
    "spy_game([1,0,2,4,0,5,7])"
   ]
  },
  {
   "cell_type": "code",
   "execution_count": null,
   "metadata": {
    "collapsed": true
   },
   "outputs": [],
   "source": [
    "# Check\n",
    "spy_game([1,7,2,0,4,5,0])"
   ]
  },
  {
   "cell_type": "markdown",
   "metadata": {},
   "source": [
    "#### COUNT PRIMES: Write a function that returns the *number* of prime numbers that exist up to and including a given number\n",
    "    count_primes(100) --> 25\n",
    "\n",
    "By convention, 0 and 1 are not prime."
   ]
  },
  {
   "cell_type": "code",
   "execution_count": null,
   "metadata": {
    "collapsed": true
   },
   "outputs": [],
   "source": [
    "def count_primes(num):\n",
    "    pass\n",
    "                "
   ]
  },
  {
   "cell_type": "code",
   "execution_count": null,
   "metadata": {
    "collapsed": true
   },
   "outputs": [],
   "source": [
    "# Check\n",
    "count_primes(100)"
   ]
  },
  {
   "cell_type": "markdown",
   "metadata": {},
   "source": [
    "please note \n",
    "I will rethink again in the quetions I couldn't solve ... I don't care for the mark... I don't like to giveup easily "
   ]
  },
  {
   "cell_type": "markdown",
   "metadata": {},
   "source": [
    "## Great Job!"
   ]
  }
 ],
 "metadata": {
  "kernelspec": {
   "display_name": "Python 3.10.5 64-bit",
   "language": "python",
   "name": "python3"
  },
  "language_info": {
   "codemirror_mode": {
    "name": "ipython",
    "version": 3
   },
   "file_extension": ".py",
   "mimetype": "text/x-python",
   "name": "python",
   "nbconvert_exporter": "python",
   "pygments_lexer": "ipython3",
   "version": "3.10.5"
  },
  "vscode": {
   "interpreter": {
    "hash": "c627e08479bba200308ab765717dc9a48cab902ab474a539d72d385f8276008b"
   }
  }
 },
 "nbformat": 4,
 "nbformat_minor": 2
}

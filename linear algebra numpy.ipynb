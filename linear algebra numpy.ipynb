{
 "cells": [
  {
   "cell_type": "markdown",
   "metadata": {},
   "source": [
    "## Write a Numpy program to compute the multiplication of two given matrixes"
   ]
  },
  {
   "cell_type": "code",
   "execution_count": 18,
   "metadata": {},
   "outputs": [],
   "source": [
    "import numpy as np"
   ]
  },
  {
   "cell_type": "code",
   "execution_count": 19,
   "metadata": {},
   "outputs": [
    {
     "name": "stdout",
     "output_type": "stream",
     "text": [
      "[[30 36 42]\n",
      " [66 81 96]]\n"
     ]
    }
   ],
   "source": [
    "# creating matrix \n",
    "\n",
    "mat1 = list( [[1,2,3],[4,5,6]] )\n",
    "mat2 = list ([[1,2,3],[4,5,6],[7,8,9]] )\n",
    "\n",
    "# methd for multiplying matrix\n",
    "\n",
    "result = np.dot(mat1,mat2)\n",
    "\n",
    "# output\n",
    "\n",
    "print(result)\n",
    "\n"
   ]
  },
  {
   "cell_type": "code",
   "execution_count": null,
   "metadata": {},
   "outputs": [],
   "source": []
  },
  {
   "cell_type": "markdown",
   "metadata": {},
   "source": [
    "## Write a NumPy program to compute the determinant of a given square array"
   ]
  },
  {
   "cell_type": "code",
   "execution_count": 23,
   "metadata": {},
   "outputs": [
    {
     "ename": "TypeError",
     "evalue": "'list' object is not callable",
     "output_type": "error",
     "traceback": [
      "\u001b[1;31m---------------------------------------------------------------------------\u001b[0m",
      "\u001b[1;31mTypeError\u001b[0m                                 Traceback (most recent call last)",
      "\u001b[1;32mh:\\linear algebra numpy.ipynb Cell 6'\u001b[0m in \u001b[0;36m<cell line: 7>\u001b[1;34m()\u001b[0m\n\u001b[0;32m      <a href='vscode-notebook-cell:/h%3A/linear%20algebra%20numpy.ipynb#ch0000004?line=2'>3</a>\u001b[0m \u001b[39mfrom\u001b[39;00m \u001b[39mnumpy\u001b[39;00m \u001b[39mimport\u001b[39;00m linalg \u001b[39mas\u001b[39;00m LA\n\u001b[0;32m      <a href='vscode-notebook-cell:/h%3A/linear%20algebra%20numpy.ipynb#ch0000004?line=4'>5</a>\u001b[0m \u001b[39m#creating the array\u001b[39;00m\n\u001b[1;32m----> <a href='vscode-notebook-cell:/h%3A/linear%20algebra%20numpy.ipynb#ch0000004?line=6'>7</a>\u001b[0m x \u001b[39m=\u001b[39m np\u001b[39m.\u001b[39;49marray([[\u001b[39m1\u001b[39;49m, \u001b[39m4\u001b[39;49m],[\u001b[39m2\u001b[39;49m, \u001b[39m3\u001b[39;49m]])\n\u001b[0;32m      <a href='vscode-notebook-cell:/h%3A/linear%20algebra%20numpy.ipynb#ch0000004?line=8'>9</a>\u001b[0m \u001b[39m# output\u001b[39;00m\n\u001b[0;32m     <a href='vscode-notebook-cell:/h%3A/linear%20algebra%20numpy.ipynb#ch0000004?line=10'>11</a>\u001b[0m \u001b[39mprint\u001b[39m(np\u001b[39m.\u001b[39mlinalg\u001b[39m.\u001b[39mdet(x))\n",
      "\u001b[1;31mTypeError\u001b[0m: 'list' object is not callable"
     ]
    }
   ],
   "source": [
    "\n",
    "# importing a library from numpy called linalg..which stands fr linear algebra\n",
    "\n",
    "from numpy import linalg as LA\n",
    "\n",
    "#creating the array\n",
    "\n",
    "x = np.array([[1, 4],[2, 3]])\n",
    "\n",
    "# output\n",
    "\n",
    "print(np.linalg.det(x))"
   ]
  },
  {
   "cell_type": "code",
   "execution_count": null,
   "metadata": {},
   "outputs": [],
   "source": []
  },
  {
   "cell_type": "markdown",
   "metadata": {},
   "source": [
    "## Write a NumPy program to compute the cross product of two given vectors"
   ]
  },
  {
   "cell_type": "code",
   "execution_count": null,
   "metadata": {},
   "outputs": [],
   "source": []
  },
  {
   "cell_type": "code",
   "execution_count": null,
   "metadata": {},
   "outputs": [],
   "source": []
  },
  {
   "cell_type": "markdown",
   "metadata": {},
   "source": [
    "## Write a NumPy program to compute the condition number of a given matrix"
   ]
  },
  {
   "cell_type": "code",
   "execution_count": null,
   "metadata": {},
   "outputs": [],
   "source": []
  },
  {
   "cell_type": "code",
   "execution_count": null,
   "metadata": {},
   "outputs": [],
   "source": []
  },
  {
   "cell_type": "markdown",
   "metadata": {},
   "source": [
    "## Write a NumPy program to compute the inverse of a given matrix"
   ]
  },
  {
   "cell_type": "code",
   "execution_count": null,
   "metadata": {},
   "outputs": [],
   "source": []
  },
  {
   "cell_type": "code",
   "execution_count": null,
   "metadata": {},
   "outputs": [],
   "source": []
  },
  {
   "cell_type": "code",
   "execution_count": null,
   "metadata": {},
   "outputs": [],
   "source": []
  }
 ],
 "metadata": {
  "kernelspec": {
   "display_name": "Python 3.10.5 64-bit",
   "language": "python",
   "name": "python3"
  },
  "language_info": {
   "codemirror_mode": {
    "name": "ipython",
    "version": 3
   },
   "file_extension": ".py",
   "mimetype": "text/x-python",
   "name": "python",
   "nbconvert_exporter": "python",
   "pygments_lexer": "ipython3",
   "version": "3.10.5"
  },
  "vscode": {
   "interpreter": {
    "hash": "c627e08479bba200308ab765717dc9a48cab902ab474a539d72d385f8276008b"
   }
  }
 },
 "nbformat": 4,
 "nbformat_minor": 2
}

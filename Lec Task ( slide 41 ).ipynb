{
 "cells": [
  {
   "cell_type": "code",
   "execution_count": 2,
   "metadata": {},
   "outputs": [],
   "source": [
    "f= open(\"test.txt\", \"w\")\n",
    "\n",
    "x = input(\"Enter first name\")\n",
    "\n",
    "y= input(\"Entr last name\")\n",
    "\n",
    "g = input(\"Enter your gender\")\n",
    "\n",
    "I = input(\"Enter you ID that consits of three numbers\".split(\",\"))\n",
    "\n",
    "f.write(x) \n",
    "\n",
    "f.write(\"\\n\")\n",
    "\n",
    "f.write(y)\n",
    "\n",
    "f.write(g)\n",
    "\n",
    "f.write(I)\n",
    "\n",
    "f.close()"
   ]
  },
  {
   "cell_type": "code",
   "execution_count": null,
   "metadata": {},
   "outputs": [],
   "source": []
  }
 ],
 "metadata": {
  "kernelspec": {
   "display_name": "Python 3.10.5 64-bit",
   "language": "python",
   "name": "python3"
  },
  "language_info": {
   "codemirror_mode": {
    "name": "ipython",
    "version": 3
   },
   "file_extension": ".py",
   "mimetype": "text/x-python",
   "name": "python",
   "nbconvert_exporter": "python",
   "pygments_lexer": "ipython3",
   "version": "3.10.5"
  },
  "orig_nbformat": 4,
  "vscode": {
   "interpreter": {
    "hash": "c627e08479bba200308ab765717dc9a48cab902ab474a539d72d385f8276008b"
   }
  }
 },
 "nbformat": 4,
 "nbformat_minor": 2
}

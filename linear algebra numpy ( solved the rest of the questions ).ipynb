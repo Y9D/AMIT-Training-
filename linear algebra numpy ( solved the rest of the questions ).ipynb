{
 "cells": [
  {
   "cell_type": "markdown",
   "metadata": {},
   "source": [
    "## Write a Numpy program to compute the multiplication of two given matrixes"
   ]
  },
  {
   "cell_type": "code",
   "execution_count": 15,
   "metadata": {},
   "outputs": [],
   "source": [
    "import numpy as np"
   ]
  },
  {
   "cell_type": "code",
   "execution_count": 19,
   "metadata": {},
   "outputs": [
    {
     "name": "stdout",
     "output_type": "stream",
     "text": [
      "[[30 36 42]\n",
      " [66 81 96]]\n"
     ]
    }
   ],
   "source": [
    "# creating matrix \n",
    "\n",
    "mat1 = list( [[1,2,3],[4,5,6]] )\n",
    "mat2 = list ([[1,2,3],[4,5,6],[7,8,9]] )\n",
    "\n",
    "# methd for multiplying matrix\n",
    "\n",
    "result = np.dot(mat1,mat2)\n",
    "\n",
    "# output\n",
    "\n",
    "print(result)\n",
    "\n"
   ]
  },
  {
   "cell_type": "code",
   "execution_count": null,
   "metadata": {},
   "outputs": [],
   "source": []
  },
  {
   "cell_type": "markdown",
   "metadata": {},
   "source": [
    "## Write a NumPy program to compute the determinant of a given square array"
   ]
  },
  {
   "cell_type": "code",
   "execution_count": 2,
   "metadata": {},
   "outputs": [
    {
     "name": "stdout",
     "output_type": "stream",
     "text": [
      "-5.000000000000001\n"
     ]
    }
   ],
   "source": [
    "\n",
    "# importing a library from numpy called linalg..which stands fr linear algebra\n",
    "\n",
    "from numpy import linalg as LA\n",
    "\n",
    "#creating the array\n",
    "\n",
    "x = np.array([[1, 4],[2, 3]])\n",
    "\n",
    "# output\n",
    "\n",
    "print(LA.det(x)) # FIXED THE ERROR"
   ]
  },
  {
   "cell_type": "code",
   "execution_count": null,
   "metadata": {},
   "outputs": [],
   "source": []
  },
  {
   "cell_type": "markdown",
   "metadata": {},
   "source": [
    "## Write a NumPy program to compute the cross product of two given vectors"
   ]
  },
  {
   "cell_type": "code",
   "execution_count": 3,
   "metadata": {},
   "outputs": [
    {
     "name": "stdout",
     "output_type": "stream",
     "text": [
      "[-6  3]\n"
     ]
    }
   ],
   "source": [
    "# crating matrix\n",
    "\n",
    "mat1 = [[1,2],[2,3]]\n",
    "\n",
    "mat2 = [[4,2],[1,3]]\n",
    "\n",
    "# method to compute cross product\n",
    "\n",
    "result = np.cross(mat1,mat2)\n",
    "\n",
    "# output\n",
    "\n",
    "print(result)"
   ]
  },
  {
   "cell_type": "code",
   "execution_count": null,
   "metadata": {},
   "outputs": [],
   "source": []
  },
  {
   "cell_type": "markdown",
   "metadata": {},
   "source": [
    "## Write a NumPy program to compute the condition number of a given matrix"
   ]
  },
  {
   "cell_type": "code",
   "execution_count": 9,
   "metadata": {},
   "outputs": [
    {
     "name": "stdout",
     "output_type": "stream",
     "text": [
      "55.454872932034355\n"
     ]
    }
   ],
   "source": [
    "# importing library from numpy\n",
    "\n",
    "from numpy import linalg as LA\n",
    "\n",
    "# crating array\n",
    "\n",
    "x = np.array([[1,0,3],[2,1,4], [5,4,3]])\n",
    "\n",
    "# output\n",
    "\n",
    "print(LA.cond(x))"
   ]
  },
  {
   "cell_type": "code",
   "execution_count": null,
   "metadata": {},
   "outputs": [],
   "source": []
  },
  {
   "cell_type": "markdown",
   "metadata": {},
   "source": [
    "## Write a NumPy program to compute the inverse of a given matrix"
   ]
  },
  {
   "cell_type": "code",
   "execution_count": 17,
   "metadata": {},
   "outputs": [
    {
     "ename": "LinAlgError",
     "evalue": "Singular matrix",
     "output_type": "error",
     "traceback": [
      "\u001b[1;31m---------------------------------------------------------------------------\u001b[0m",
      "\u001b[1;31mLinAlgError\u001b[0m                               Traceback (most recent call last)",
      "\u001b[1;32mc:\\Users\\Yara9\\Desktop\\AMIT ML Training\\linear algebra numpy.ipynb Cell 15'\u001b[0m in \u001b[0;36m<cell line: 11>\u001b[1;34m()\u001b[0m\n\u001b[0;32m      <a href='vscode-notebook-cell:/c%3A/Users/Yara9/Desktop/AMIT%20ML%20Training/linear%20algebra%20numpy.ipynb#ch0000014?line=6'>7</a>\u001b[0m c \u001b[39m=\u001b[39m np\u001b[39m.\u001b[39marray([[\u001b[39m1\u001b[39m,\u001b[39m2\u001b[39m],[\u001b[39m2\u001b[39m,\u001b[39m4\u001b[39m]])\n\u001b[0;32m      <a href='vscode-notebook-cell:/c%3A/Users/Yara9/Desktop/AMIT%20ML%20Training/linear%20algebra%20numpy.ipynb#ch0000014?line=8'>9</a>\u001b[0m \u001b[39m# method t compute inverse of a matrix\u001b[39;00m\n\u001b[1;32m---> <a href='vscode-notebook-cell:/c%3A/Users/Yara9/Desktop/AMIT%20ML%20Training/linear%20algebra%20numpy.ipynb#ch0000014?line=10'>11</a>\u001b[0m result \u001b[39m=\u001b[39m LA\u001b[39m.\u001b[39;49minv(c)\n\u001b[0;32m     <a href='vscode-notebook-cell:/c%3A/Users/Yara9/Desktop/AMIT%20ML%20Training/linear%20algebra%20numpy.ipynb#ch0000014?line=12'>13</a>\u001b[0m \u001b[39m# output\u001b[39;00m\n\u001b[0;32m     <a href='vscode-notebook-cell:/c%3A/Users/Yara9/Desktop/AMIT%20ML%20Training/linear%20algebra%20numpy.ipynb#ch0000014?line=14'>15</a>\u001b[0m \u001b[39mprint\u001b[39m(result)\n",
      "File \u001b[1;32m<__array_function__ internals>:180\u001b[0m, in \u001b[0;36minv\u001b[1;34m(*args, **kwargs)\u001b[0m\n",
      "File \u001b[1;32mc:\\Users\\Yara9\\AppData\\Local\\Programs\\Python\\Python310\\lib\\site-packages\\numpy\\linalg\\linalg.py:552\u001b[0m, in \u001b[0;36minv\u001b[1;34m(a)\u001b[0m\n\u001b[0;32m    550\u001b[0m signature \u001b[39m=\u001b[39m \u001b[39m'\u001b[39m\u001b[39mD->D\u001b[39m\u001b[39m'\u001b[39m \u001b[39mif\u001b[39;00m isComplexType(t) \u001b[39melse\u001b[39;00m \u001b[39m'\u001b[39m\u001b[39md->d\u001b[39m\u001b[39m'\u001b[39m\n\u001b[0;32m    551\u001b[0m extobj \u001b[39m=\u001b[39m get_linalg_error_extobj(_raise_linalgerror_singular)\n\u001b[1;32m--> 552\u001b[0m ainv \u001b[39m=\u001b[39m _umath_linalg\u001b[39m.\u001b[39;49minv(a, signature\u001b[39m=\u001b[39;49msignature, extobj\u001b[39m=\u001b[39;49mextobj)\n\u001b[0;32m    553\u001b[0m \u001b[39mreturn\u001b[39;00m wrap(ainv\u001b[39m.\u001b[39mastype(result_t, copy\u001b[39m=\u001b[39m\u001b[39mFalse\u001b[39;00m))\n",
      "File \u001b[1;32mc:\\Users\\Yara9\\AppData\\Local\\Programs\\Python\\Python310\\lib\\site-packages\\numpy\\linalg\\linalg.py:89\u001b[0m, in \u001b[0;36m_raise_linalgerror_singular\u001b[1;34m(err, flag)\u001b[0m\n\u001b[0;32m     88\u001b[0m \u001b[39mdef\u001b[39;00m \u001b[39m_raise_linalgerror_singular\u001b[39m(err, flag):\n\u001b[1;32m---> 89\u001b[0m     \u001b[39mraise\u001b[39;00m LinAlgError(\u001b[39m\"\u001b[39m\u001b[39mSingular matrix\u001b[39m\u001b[39m\"\u001b[39m)\n",
      "\u001b[1;31mLinAlgError\u001b[0m: Singular matrix"
     ]
    }
   ],
   "source": [
    "\n",
    "# importing lineaar algebra library form numpy\n",
    "\n",
    "from numpy import linalg as LA\n",
    "\n",
    "# creating array\n",
    "\n",
    "c = np.array([[1,2],[2,4]])\n",
    "\n",
    "# method t compute inverse of a matrix\n",
    "\n",
    "result = LA.inv(c)\n",
    "\n",
    "# output\n",
    "\n",
    "print(result)"
   ]
  },
  {
   "cell_type": "code",
   "execution_count": null,
   "metadata": {},
   "outputs": [],
   "source": []
  },
  {
   "cell_type": "code",
   "execution_count": null,
   "metadata": {},
   "outputs": [],
   "source": []
  }
 ],
 "metadata": {
  "kernelspec": {
   "display_name": "Python 3.10.5 64-bit",
   "language": "python",
   "name": "python3"
  },
  "language_info": {
   "codemirror_mode": {
    "name": "ipython",
    "version": 3
   },
   "file_extension": ".py",
   "mimetype": "text/x-python",
   "name": "python",
   "nbconvert_exporter": "python",
   "pygments_lexer": "ipython3",
   "version": "3.10.5"
  },
  "vscode": {
   "interpreter": {
    "hash": "c627e08479bba200308ab765717dc9a48cab902ab474a539d72d385f8276008b"
   }
  }
 },
 "nbformat": 4,
 "nbformat_minor": 2
}

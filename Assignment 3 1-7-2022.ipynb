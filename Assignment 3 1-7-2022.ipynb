{
 "cells": [
  {
   "cell_type": "markdown",
   "metadata": {},
   "source": [
    "# Assignment 3"
   ]
  },
  {
   "cell_type": "markdown",
   "metadata": {},
   "source": [
    "### Write a function to count the number 4 in a given list."
   ]
  },
  {
   "cell_type": "code",
   "execution_count": 45,
   "metadata": {
    "collapsed": true
   },
   "outputs": [
    {
     "name": "stdout",
     "output_type": "stream",
     "text": [
      "2\n"
     ]
    }
   ],
   "source": [
    "# This is the first solution I thought of\n",
    "\n",
    "# creating a list\n",
    "\n",
    "myList = [ 1, 2, 3, 4, 6, 8, 4, 10]\n",
    "\n",
    "# Bulding the function \n",
    "\n",
    "def count_num(myList):\n",
    "\n",
    "# made for loop to pass on each number in myList\n",
    "\n",
    "    for x in myList:\n",
    "\n",
    "    # using the built in function count() \n",
    "     \n",
    "     x = myList.count(4)\n",
    "\n",
    "    print(x)\n",
    "\n",
    "     \n",
    "          \n",
    "# calling the function\n",
    "\n",
    "count_num(myList)\n",
    "\n"
   ]
  },
  {
   "cell_type": "code",
   "execution_count": 49,
   "metadata": {},
   "outputs": [
    {
     "data": {
      "text/plain": [
       "1"
      ]
     },
     "execution_count": 49,
     "metadata": {},
     "output_type": "execute_result"
    }
   ],
   "source": [
    "# This is the second solution I thought of\n",
    "# This is a better solution than the first one\n",
    "\n",
    "# creating a list\n",
    "\n",
    "myList1 = [ 1, 2, 3, 4, 6, 8, 10]\n",
    "\n",
    "# Bulding the function \n",
    "\n",
    "def count(myList1):\n",
    "    \n",
    "    return myList1.count(4)\n",
    "\n",
    "\n",
    "# calling the function\n",
    "\n",
    "count(myList1)\n"
   ]
  },
  {
   "cell_type": "markdown",
   "metadata": {},
   "source": [
    "### write a  function to check whether a number is divisible by another number."
   ]
  },
  {
   "cell_type": "code",
   "execution_count": 37,
   "metadata": {
    "collapsed": true
   },
   "outputs": [
    {
     "name": "stdout",
     "output_type": "stream",
     "text": [
      "Not divisible\n",
      "2\n",
      "Not divisible\n",
      "4\n",
      "6\n",
      "8\n",
      "10\n"
     ]
    }
   ],
   "source": [
    "# This is the first solution I thought of\n",
    "# I created a list beause at first I thought the quetsion wanted me to check through\n",
    "# a list ... and then noticed that this is not what the question asked for\n",
    "\n",
    "# Creating a list\n",
    "\n",
    "myList = [1, 2, 3, 4, 6, 8, 10]\n",
    "\n",
    "\n",
    "\n",
    "# Bilding the function\n",
    "\n",
    "def check():\n",
    "\n",
    "    # travering ( using for loop)\n",
    "\n",
    "    for numbers in myList:\n",
    "        \n",
    "        # making a condintion using if statment\n",
    "\n",
    "        if numbers  % 2 == 0 :\n",
    "\n",
    "            print(numbers)\n",
    "\n",
    "        else:\n",
    "\n",
    "            print('Not divisible')\n",
    "        \n",
    "# calling the function\n",
    "\n",
    "check()\n",
    "\n",
    "\n",
    "\n"
   ]
  },
  {
   "cell_type": "code",
   "execution_count": 34,
   "metadata": {},
   "outputs": [
    {
     "name": "stdout",
     "output_type": "stream",
     "text": [
      "Numbers divisible by 2 are:  [2, 4, 6, 8, 10]\n"
     ]
    }
   ],
   "source": [
    "# Second solution I thought of ...... using the filter method since \n",
    "# it returns only true output and the lambda function to write the code in one line\n",
    "# I  also created a list here beause  I was still thinking that the quetsion wanted me \n",
    "# to check through a list ... and then noticed that this is not what the question asked for \n",
    "\n",
    "# Creating a list\n",
    "\n",
    "myList = [1, 2, 3, 4, 6, 8, 10]\n",
    "\n",
    "# Bilding the function\n",
    "\n",
    "def check():\n",
    "\n",
    "    div = list(filter(lambda num : (num % 2 == 0), myList ))\n",
    "\n",
    "    print(\"Numbers divisible by 2 are: \", div)\n",
    "\n",
    "check()"
   ]
  },
  {
   "cell_type": "code",
   "execution_count": 39,
   "metadata": {},
   "outputs": [
    {
     "data": {
      "text/plain": [
       "False"
      ]
     },
     "execution_count": 39,
     "metadata": {},
     "output_type": "execute_result"
    }
   ],
   "source": [
    "# Third solution\n",
    "# I noticed that the question doese not want me to check if number is divisible\n",
    "# throuth a list .... nut just creating  a simple function \n",
    "\n",
    "# Bilding the function\n",
    "\n",
    "def check(num):\n",
    "    return num % 6 == 0\n",
    "\n",
    "check(5)"
   ]
  },
  {
   "cell_type": "markdown",
   "metadata": {},
   "source": [
    "### write a function to find the maximum and minimum numbers from a sequence of numbers."
   ]
  },
  {
   "cell_type": "code",
   "execution_count": 30,
   "metadata": {
    "collapsed": true
   },
   "outputs": [
    {
     "name": "stdout",
     "output_type": "stream",
     "text": [
      "Minimum number: 1\n",
      "Maximum number: 6\n",
      "Minimum number: 2\n",
      "Minimum number: 4\n",
      "Minimum number: 3\n",
      "Minimum number: 5\n"
     ]
    }
   ],
   "source": [
    "# creating a list\n",
    "\n",
    "list1 = [1, 6, 2, 4, 3, 5]\n",
    "\n",
    "# Bulding the function\n",
    "\n",
    "def find():\n",
    "\n",
    "    # traversing (using for loop)\n",
    "\n",
    "    for num in list1:\n",
    "\n",
    "        # making a condintion using if else statment\n",
    "\n",
    "        if num == max(list1):\n",
    "\n",
    "            print('Maximum number:',num)\n",
    "\n",
    "        else: \n",
    "            \n",
    "            print('Minimum number:' , num)\n",
    "\n",
    "# calling the function\n",
    "\n",
    "find()"
   ]
  },
  {
   "cell_type": "code",
   "execution_count": 43,
   "metadata": {},
   "outputs": [
    {
     "data": {
      "text/plain": [
       "False"
      ]
     },
     "execution_count": 43,
     "metadata": {},
     "output_type": "execute_result"
    }
   ],
   "source": [
    "# Secnd solution I thought of\n",
    "\n",
    "list2 = [1, 6, 2, 4, 3, 5, 10, 15]\n",
    "\n",
    "# Building the function\n",
    "\n",
    "def find_min(num):\n",
    "\n",
    "    return num == min(list2)\n",
    "\n",
    "find_min(10)\n",
    "\n",
    "# if the number between brackets is the minimum in the list ... output will be true...\n",
    "#otherwise the output is false    "
   ]
  },
  {
   "cell_type": "code",
   "execution_count": 47,
   "metadata": {},
   "outputs": [
    {
     "data": {
      "text/plain": [
       "True"
      ]
     },
     "execution_count": 47,
     "metadata": {},
     "output_type": "execute_result"
    }
   ],
   "source": [
    " # Bulding the function\n",
    "def find_max(num):\n",
    "\n",
    "    return num == max(list2)\n",
    "\n",
    "# calling the function\n",
    "\n",
    "find_max(15)\n",
    "\n",
    "# if the number between brackets is the maximum in the list ... output will be true...\n",
    "#otherwise the output is false"
   ]
  },
  {
   "cell_type": "markdown",
   "metadata": {},
   "source": [
    "### Write a Python function that takes two lists and returns True if they have at least one common member."
   ]
  },
  {
   "cell_type": "code",
   "execution_count": 2,
   "metadata": {
    "collapsed": true
   },
   "outputs": [
    {
     "data": {
      "text/plain": [
       "True"
      ]
     },
     "execution_count": 2,
     "metadata": {},
     "output_type": "execute_result"
    }
   ],
   "source": [
    "# Creating my lists\n",
    "\n",
    "List4 = [ 5, 6, 8, 10, 2 ]\n",
    "\n",
    "List5 = [ 8, 10, 5, 4, 9]\n",
    "\n",
    "def common(List4 , List5):\n",
    "\n",
    "    result = 0\n",
    "\n",
    "    # traversing ( using for loop )\n",
    "\n",
    "    for x in List4:\n",
    "\n",
    "        for y in List5:\n",
    "\n",
    "            # making a condition using if else statment \n",
    "\n",
    "            if x == y:\n",
    "\n",
    "                result = True \n",
    "\n",
    "                return result       \n",
    "\n",
    "            else:\n",
    "\n",
    "                result = False\n",
    "\n",
    "    return result     # ask him on this part...why when we place it outside the else \n",
    "                      # statment the progrm works well and if inside the else it does not     \n",
    "common(List4, List5)"
   ]
  },
  {
   "cell_type": "markdown",
   "metadata": {},
   "source": [
    "### Write a Python function to calculate the factorial of a number (a non-negative integer). The function accepts the number from the user"
   ]
  },
  {
   "cell_type": "code",
   "execution_count": 10,
   "metadata": {
    "collapsed": true
   },
   "outputs": [
    {
     "name": "stdout",
     "output_type": "stream",
     "text": [
      "Factorial of: 5 is 120\n"
     ]
    }
   ],
   "source": [
    "# Asking user to enter a number\n",
    "\n",
    "x = int(input('Enter a number'))\n",
    "\n",
    "# Bulding the function\n",
    "\n",
    "def factorial(x):\n",
    "\n",
    "    # made if else statment\n",
    "\n",
    "    if x == 1:\n",
    "        return 1\n",
    "    else:\n",
    "        return x * factorial(x-1)\n",
    "\n",
    "# Result\n",
    "\n",
    "print(\"Factorial of:\", x ,\"is\" , factorial(x))"
   ]
  },
  {
   "cell_type": "markdown",
   "metadata": {},
   "source": [
    "### Write a Python function to check whether a number is in a given range.\n",
    "\n",
    "### The range is from 3 to 11\n"
   ]
  },
  {
   "cell_type": "code",
   "execution_count": 23,
   "metadata": {
    "collapsed": true
   },
   "outputs": [
    {
     "name": "stdout",
     "output_type": "stream",
     "text": [
      "Number is in range\n"
     ]
    }
   ],
   "source": [
    "# Bulding the function\n",
    "\n",
    "def check_range(num):\n",
    "\n",
    "    # made an if else statment \n",
    "    \n",
    "     if num in range(3,12):\n",
    "\n",
    "        print(\"Number is in range\")\n",
    "\n",
    "     else: \n",
    "\n",
    "        print(\"Sorry, number is outside range\")\n",
    "        \n",
    "# calling the function\n",
    "\n",
    "check_range(5)"
   ]
  },
  {
   "cell_type": "markdown",
   "metadata": {},
   "source": [
    "### Write a  program to create the multiplication table (from 1 to 10) of a number."
   ]
  },
  {
   "cell_type": "code",
   "execution_count": 26,
   "metadata": {
    "collapsed": true
   },
   "outputs": [
    {
     "name": "stdout",
     "output_type": "stream",
     "text": [
      "2 * 1 = 2\n",
      "2 * 2 = 4\n",
      "2 * 3 = 6\n",
      "2 * 4 = 8\n",
      "2 * 5 = 10\n",
      "2 * 6 = 12\n",
      "2 * 7 = 14\n",
      "2 * 8 = 16\n",
      "2 * 9 = 18\n",
      "2 * 10 = 20\n"
     ]
    }
   ],
   "source": [
    "# Building the function\n",
    "\n",
    "def mult(num):\n",
    "\n",
    "    for i in range(1,11):\n",
    "\n",
    "        # Result\n",
    "\n",
    "        print(num, '*' , i, '=', num*i)\n",
    "\n",
    "# Calling the function\n",
    "\n",
    "mult(2)"
   ]
  },
  {
   "cell_type": "markdown",
   "metadata": {},
   "source": [
    "#### LESSER OF TWO EVENS: Write a function that returns the lesser of two given numbers *if* both numbers are even, but returns the greater if one or both numbers are odd\n",
    "    lesser_of_two_evens(2,4) --> 2\n",
    "    lesser_of_two_evens(2,5) --> 5"
   ]
  },
  {
   "cell_type": "code",
   "execution_count": 40,
   "metadata": {},
   "outputs": [
    {
     "data": {
      "text/plain": [
       "5"
      ]
     },
     "execution_count": 40,
     "metadata": {},
     "output_type": "execute_result"
    }
   ],
   "source": [
    "# Bulding the function\n",
    "\n",
    "def lesser(num1, num2):\n",
    "\n",
    "    # made an if else if statment\n",
    "\n",
    "    if num1 % 2 == 0 and num2 % 2 == 0:\n",
    "\n",
    "        return min(num1 , num2)\n",
    "\n",
    "    elif num1 or num2 % 2 == 0 and num1 or num2 % 2 !=0:\n",
    "\n",
    "        return max(num1 , num2)\n",
    "\n",
    "# Calling the function\n",
    "\n",
    "lesser (5,2)"
   ]
  }
 ],
 "metadata": {
  "kernelspec": {
   "display_name": "Python 3.10.5 64-bit",
   "language": "python",
   "name": "python3"
  },
  "language_info": {
   "codemirror_mode": {
    "name": "ipython",
    "version": 3
   },
   "file_extension": ".py",
   "mimetype": "text/x-python",
   "name": "python",
   "nbconvert_exporter": "python",
   "pygments_lexer": "ipython3",
   "version": "3.10.5"
  },
  "vscode": {
   "interpreter": {
    "hash": "c627e08479bba200308ab765717dc9a48cab902ab474a539d72d385f8276008b"
   }
  }
 },
 "nbformat": 4,
 "nbformat_minor": 2
}
